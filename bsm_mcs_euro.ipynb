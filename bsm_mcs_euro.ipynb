{
 "cells": [
  {
   "cell_type": "code",
   "execution_count": 1,
   "id": "49b39097",
   "metadata": {},
   "outputs": [
    {
     "name": "stdout",
     "output_type": "stream",
     "text": [
      "Requirement already satisfied: yfinance in c:\\users\\gabri\\anaconda3\\lib\\site-packages (0.2.33)\n",
      "Requirement already satisfied: pytz>=2022.5 in c:\\users\\gabri\\anaconda3\\lib\\site-packages (from yfinance) (2022.7)\n",
      "Requirement already satisfied: frozendict>=2.3.4 in c:\\users\\gabri\\anaconda3\\lib\\site-packages (from yfinance) (2.3.10)\n",
      "Requirement already satisfied: multitasking>=0.0.7 in c:\\users\\gabri\\anaconda3\\lib\\site-packages (from yfinance) (0.0.11)\n",
      "Requirement already satisfied: pandas>=1.3.0 in c:\\users\\gabri\\anaconda3\\lib\\site-packages (from yfinance) (1.5.3)\n",
      "Requirement already satisfied: requests>=2.31 in c:\\users\\gabri\\anaconda3\\lib\\site-packages (from yfinance) (2.31.0)\n",
      "Requirement already satisfied: appdirs>=1.4.4 in c:\\users\\gabri\\anaconda3\\lib\\site-packages (from yfinance) (1.4.4)\n",
      "Requirement already satisfied: beautifulsoup4>=4.11.1 in c:\\users\\gabri\\anaconda3\\lib\\site-packages (from yfinance) (4.11.1)\n",
      "Requirement already satisfied: numpy>=1.16.5 in c:\\users\\gabri\\anaconda3\\lib\\site-packages (from yfinance) (1.23.5)\n",
      "Requirement already satisfied: lxml>=4.9.1 in c:\\users\\gabri\\anaconda3\\lib\\site-packages (from yfinance) (4.9.1)\n",
      "Requirement already satisfied: peewee>=3.16.2 in c:\\users\\gabri\\anaconda3\\lib\\site-packages (from yfinance) (3.17.0)\n",
      "Requirement already satisfied: html5lib>=1.1 in c:\\users\\gabri\\anaconda3\\lib\\site-packages (from yfinance) (1.1)\n",
      "Requirement already satisfied: soupsieve>1.2 in c:\\users\\gabri\\anaconda3\\lib\\site-packages (from beautifulsoup4>=4.11.1->yfinance) (2.3.2.post1)\n",
      "Requirement already satisfied: six>=1.9 in c:\\users\\gabri\\anaconda3\\lib\\site-packages (from html5lib>=1.1->yfinance) (1.16.0)\n",
      "Requirement already satisfied: webencodings in c:\\users\\gabri\\anaconda3\\lib\\site-packages (from html5lib>=1.1->yfinance) (0.5.1)\n",
      "Requirement already satisfied: python-dateutil>=2.8.1 in c:\\users\\gabri\\anaconda3\\lib\\site-packages (from pandas>=1.3.0->yfinance) (2.8.2)\n",
      "Requirement already satisfied: charset-normalizer<4,>=2 in c:\\users\\gabri\\anaconda3\\lib\\site-packages (from requests>=2.31->yfinance) (2.0.4)\n",
      "Requirement already satisfied: idna<4,>=2.5 in c:\\users\\gabri\\anaconda3\\lib\\site-packages (from requests>=2.31->yfinance) (3.4)\n",
      "Requirement already satisfied: urllib3<3,>=1.21.1 in c:\\users\\gabri\\anaconda3\\lib\\site-packages (from requests>=2.31->yfinance) (1.26.14)\n",
      "Requirement already satisfied: certifi>=2017.4.17 in c:\\users\\gabri\\anaconda3\\lib\\site-packages (from requests>=2.31->yfinance) (2022.12.7)\n"
     ]
    }
   ],
   "source": [
    "import pandas as pd\n",
    "import numpy as np\n",
    "import scipy as sc\n",
    "import matplotlib.pyplot as plt\n",
    "import sklearn as sl\n",
    "import tables as tb\n",
    "import math\n",
    "from scipy.stats import norm\n",
    "import requests\n",
    "!pip install yfinance"
   ]
  },
  {
   "cell_type": "code",
   "execution_count": 70,
   "id": "2e273e77",
   "metadata": {},
   "outputs": [
    {
     "name": "stdout",
     "output_type": "stream",
     "text": [
      "0.07844392486657945\n",
      "0.013142330899791948\n",
      "O valor da opção é 0.607.\n"
     ]
    }
   ],
   "source": [
    "# Calculo do preço de uma opção europeia\n",
    "\n",
    "S0 = 22.05 #preço da ação atual\n",
    "K = 22.25 #preço de strike da opção\n",
    "T = 26/252 #tempo até o vencimento ou time to maturity\n",
    "r = 0.11649931856340623 # Taxa de juros livre de risco\n",
    "sigma = 0.2033\n",
    "\n",
    "\n",
    "# Algoritimo de precificação\n",
    "d1 = (np.log(S0/K) + (r + sigma ** 2 / 2) * T) / (sigma * np.sqrt(T))\n",
    "print(d1)\n",
    "d2 = (np.log(S0/K) + (r - sigma ** 2 / 2) * T) / (sigma * np.sqrt(T))\n",
    "print(d2)\n",
    "call = (S0 * norm.cdf(d1) - (K * np.exp(-r * T) * norm.cdf(d2)))\n",
    "print('O valor da opção é %5.3f.' % call)"
   ]
  },
  {
   "cell_type": "code",
   "execution_count": 71,
   "id": "58c02e73",
   "metadata": {},
   "outputs": [
    {
     "name": "stdout",
     "output_type": "stream",
     "text": [
      "-0.5782139401511089\n",
      "-0.6642255672720977\n",
      "0.46034826365394466\n"
     ]
    }
   ],
   "source": [
    "# Calculo do preço de uma opção europeia\n",
    "\n",
    "S0 = 32.00 #preço da ação atual\n",
    "K = 34.00 #preço de strike da opção\n",
    "T = 0.0822 #tempo até o vencimento ou time to maturity\n",
    "r = 0.0875 # Taxa de juros livre de risco\n",
    "sigma = 0.3 # volatilidade\n",
    "\n",
    "\n",
    "# Algoritimo de precificação\n",
    "d1 = (np.log(S0/K) + (r + sigma ** 2 / 2) * T) / (sigma * np.sqrt(T))\n",
    "print(d1)\n",
    "d2 = (np.log(S0/K) + (r - sigma ** 2 / 2) * T) / (sigma * np.sqrt(T))\n",
    "print(d2)\n",
    "call = (S0 * norm.cdf(d1) - (K * np.exp(-r * T) * norm.cdf(d2)))\n",
    "print(call)"
   ]
  },
  {
   "cell_type": "code",
   "execution_count": 55,
   "id": "50f56734",
   "metadata": {},
   "outputs": [
    {
     "name": "stdout",
     "output_type": "stream",
     "text": [
      "O valor da opção é 1.588.\n"
     ]
    }
   ],
   "source": [
    "# Calculo do preço de uma opção europeia com Monte Carlo\n",
    "\n",
    "S0 = 73.87 #preço da ação atual\n",
    "K = 75.82 #preço de strike da opção\n",
    "T = 26/252 #tempo até o vencimento ou time to maturity\n",
    "r = 0.1175 # Taxa de juros livre de risco\n",
    "sigma = 0.2172\n",
    "I = 100000\n",
    "\n",
    "z = np.random.standard_normal(I)\n",
    "ST = S0 * np.exp((r - 0.5 * sigma ** 2) * T + sigma * math.sqrt(T) * z)\n",
    "hT = np.maximum(ST - K, 0)\n",
    "C0 = math.exp(-r * T) * np.mean(hT)\n",
    "\n",
    "print('O valor da opção é %5.3f.' % C0)"
   ]
  },
  {
   "cell_type": "code",
   "execution_count": 72,
   "id": "9cf86757",
   "metadata": {},
   "outputs": [
    {
     "name": "stdout",
     "output_type": "stream",
     "text": [
      "0.11649931856340623\n"
     ]
    }
   ],
   "source": [
    "# busca o histórico diário da selic\n",
    "r=requests.get('https://api.bcb.gov.br/dados/serie/bcdata.sgs.11/dados?formato=json').json()\n",
    "df = pd.DataFrame(r).set_index('data')\n",
    "df['valor'] = df['valor'].astype(float)\n",
    "\n",
    "# anualiza as taxas, considerando 252 dias úteis no ano\n",
    "df['valor'] = df['valor'].apply(lambda x: 1+x/100)**252-1\n",
    "\n",
    "# obtem o valor atual\n",
    "selic=df['valor'].iloc[-1]\n",
    "print(selic)"
   ]
  },
  {
   "cell_type": "code",
   "execution_count": null,
   "id": "210fc40a",
   "metadata": {},
   "outputs": [],
   "source": []
  },
  {
   "cell_type": "code",
   "execution_count": null,
   "id": "856266dd",
   "metadata": {},
   "outputs": [],
   "source": []
  },
  {
   "cell_type": "code",
   "execution_count": null,
   "id": "616089ab",
   "metadata": {},
   "outputs": [],
   "source": []
  },
  {
   "cell_type": "code",
   "execution_count": null,
   "id": "a58c7809",
   "metadata": {},
   "outputs": [],
   "source": []
  },
  {
   "cell_type": "code",
   "execution_count": null,
   "id": "1f44af13",
   "metadata": {},
   "outputs": [],
   "source": []
  }
 ],
 "metadata": {
  "kernelspec": {
   "display_name": "Python 3 (ipykernel)",
   "language": "python",
   "name": "python3"
  },
  "language_info": {
   "codemirror_mode": {
    "name": "ipython",
    "version": 3
   },
   "file_extension": ".py",
   "mimetype": "text/x-python",
   "name": "python",
   "nbconvert_exporter": "python",
   "pygments_lexer": "ipython3",
   "version": "3.10.9"
  }
 },
 "nbformat": 4,
 "nbformat_minor": 5
}
